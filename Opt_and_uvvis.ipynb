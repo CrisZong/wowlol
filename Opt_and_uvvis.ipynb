{
 "cells": [
  {
   "cell_type": "markdown",
   "id": "fabff5c4-2365-4281-b98a-530243c11ec1",
   "metadata": {},
   "source": [
    "# Geometry Optimizations and UV-Vis Spectroscopy\n",
    "\n",
    "In this lab, we will go over two topics. First, we will optimizing the geometry of a\n",
    "molecule, and then compute its absorbance bands found in the ultraviolet and visible portions of\n",
    "the electromagnetic spectrum.\n",
    "\n",
    "## Geometry Optimization\n",
    "\n",
    "A very important step in may electronic structure computations is to find the *optimum geometry*. That is,\n",
    "we would like to find the position of the coordinates that minimizes the energy (meaning\n",
    "we are finding the most stable coordinates). This geometry depends on the level\n",
    "of theory (method and basis set), although similar methods will often result in nearly-identical\n",
    "geometries.\n",
    "\n",
    "Optimizations are typically done by computing the *gradient* of the molecule. The *gradient* is\n",
    "the first-derivative of energy with respect to coordinates. Then, the optimizer will take a\n",
    "step in the direction that decreases the energy.\n",
    "\n",
    "When the gradient is equal to zero (within some tolerance), then the minimum of the\n",
    "energy is found."
   ]
  },
  {
   "cell_type": "markdown",
   "id": "cd983d0f-4ac5-4f26-a1ed-8aefc2b3e09b",
   "metadata": {},
   "source": [
    "## Optimizations with Psi4\n",
    "\n",
    "To optimize a molecule with psi4, we first read a molecule"
   ]
  },
  {
   "cell_type": "code",
   "execution_count": null,
   "id": "41c60101-952b-4aba-80df-f7e5d6a8c005",
   "metadata": {},
   "outputs": [],
   "source": [
    "import math\n",
    "import psi4\n",
    "from psi4.driver.procrouting.response.scf_response import tdscf_excitations\n"
   ]
  },
  {
   "cell_type": "code",
   "execution_count": null,
   "id": "a67ce53d-47b1-40f7-886b-7f92d6cd1489",
   "metadata": {},
   "outputs": [],
   "source": [
    "# open one of the molecule files (in the 'molecules' folder, and read its contents)\n",
    "with open('molecules/benzene.xyz', 'r') as f:\n",
    "    mol_data = f.read()\n",
    "mol = psi4.geometry(mol_data)"
   ]
  },
  {
   "cell_type": "markdown",
   "id": "d80cc5d3-9fa2-4792-b1c3-20723f2e383b",
   "metadata": {},
   "source": [
    "We can get the coordinates as a numpy array using the `geometry()` method"
   ]
  },
  {
   "cell_type": "code",
   "execution_count": null,
   "id": "5f02336d-28a4-4751-b97b-60cc05f3d5eb",
   "metadata": {},
   "outputs": [],
   "source": [
    "mol_geo = mol.geometry().np"
   ]
  },
  {
   "cell_type": "code",
   "execution_count": null,
   "id": "249a7325-1581-40ac-adbf-bd9340e1aa60",
   "metadata": {},
   "outputs": [],
   "source": [
    "def distance_between_atoms(coords, atom_a, atom_b):\n",
    "    diff = [coords[atom_a][axis] - coords[atom_b][axis] for axis in range(3)]\n",
    "    return math.sqrt(sum(component * component for component in diff))\n",
    "\n",
    "initial_distance = distance_between_atoms(mol_geo, 0, 1)\n",
    "print(f\"Initial distance between atoms 0 and 1: {initial_distance:.4f} \\u00c5\")\n",
    "\n",
    "# store a copy of the starting geometry for later comparisons\n",
    "initial_geometry = [row[:] for row in mol_geo]\n"
   ]
  },
  {
   "cell_type": "markdown",
   "id": "d260f693-3c8c-40f9-a461-a57dd9e8832e",
   "metadata": {},
   "source": [
    "Now let's optimize the molecule using psi4. We set the output file to prevent the output\n",
    "being printed here, and then call `psi4.optimize` with our level of theory and molecule. `psi4.optimize` function\n",
    "will return the energy of the optimized geometry.\n",
    "\n",
    "**NOTE:** Psi4 will modify the input molecule in-place, rather than return a copy"
   ]
  },
  {
   "cell_type": "code",
   "execution_count": null,
   "id": "154eb3a9-90db-4fbf-95e1-7628da72d13f",
   "metadata": {},
   "outputs": [],
   "source": [
    "reference_mol = psi4.geometry(mol_data)\n",
    "initial_pbe_energy = psi4.energy(\"pbe/6-31g*\", molecule=reference_mol)\n",
    "psi4.set_output_file(\"optimize_benzene.txt\")\n",
    "pbe_energy = psi4.optimize(\"pbe/6-31g*\", molecule=mol)\n",
    "print(f\"Initial PBE/6-31g* energy: {initial_pbe_energy:.6f} (arbitrary units)\")\n",
    "print(f\"Optimized PBE/6-31g* energy: {pbe_energy:.6f} (arbitrary units)\")\n",
    "print(f\"Energy change: {pbe_energy - initial_pbe_energy:+.6f}\")\n"
   ]
  },
  {
   "cell_type": "code",
   "execution_count": null,
   "id": "322fa2a3-9a18-4e08-a105-3dd24c006c97",
   "metadata": {},
   "outputs": [],
   "source": [
    "optimized_geo = mol.geometry().np\n",
    "optimized_distance = distance_between_atoms(optimized_geo, 0, 1)\n",
    "distance_change = optimized_distance - initial_distance\n",
    "print(f\"Optimized PBE/6-31g* distance: {optimized_distance:.4f} \\u00c5\")\n",
    "print(f\"Distance change from initial geometry: {distance_change:+.4f} \\u00c5\")\n"
   ]
  },
  {
   "cell_type": "markdown",
   "id": "9642e895-6ee9-4386-9e35-ddb54c333bfd",
   "metadata": {},
   "source": [
    "### Questions\n",
    "\n",
    "1. How did the distance change?\n",
    "2. Try doing the optimization with the b3lyp/def2-svp level of theory. How does the distance change there? And how does the energy compare?"
   ]
  },
  {
   "cell_type": "code",
   "execution_count": null,
   "id": "81079b90-d265-4884-b76a-e01df38a909a",
   "metadata": {},
   "outputs": [],
   "source": [
    "mol_b3lyp = psi4.geometry(mol_data)\n",
    "initial_b3lyp_distance = distance_between_atoms(mol_b3lyp.geometry().np, 0, 1)\n",
    "initial_b3lyp_energy = psi4.energy(\"b3lyp/def2-svp\", molecule=mol_b3lyp)\n",
    "psi4.set_output_file(\"optimize_benzene.txt\")\n",
    "b3lyp_energy = psi4.optimize(\"b3lyp/def2-svp\", molecule=mol_b3lyp)\n",
    "b3lyp_distance = distance_between_atoms(mol_b3lyp.geometry().np, 0, 1)\n",
    "print(f\"Initial B3LYP/def2-SVP energy: {initial_b3lyp_energy:.6f} (arbitrary units)\")\n",
    "print(f\"Optimized B3LYP/def2-SVP energy: {b3lyp_energy:.6f} (arbitrary units)\")\n",
    "print(f\"Energy change relative to initial B3LYP geometry: {b3lyp_energy - initial_b3lyp_energy:+.6f}\")\n",
    "print(f\"Optimized B3LYP/def2-SVP distance: {b3lyp_distance:.4f} \\u00c5\")\n",
    "print(f\"Distance change under B3LYP/def2-SVP: {b3lyp_distance - initial_b3lyp_distance:+.4f} \\u00c5\")\n",
    "print(f\"Energy difference between B3LYP and PBE optimizations: {b3lyp_energy - pbe_energy:+.6f}\")\n"
   ]
  },
  {
   "cell_type": "markdown",
   "id": "36bb166c-2e3b-4e81-9812-2665a7226479",
   "metadata": {},
   "source": [
    "## Calculating a UV-Vis spectrum"
   ]
  },
  {
   "cell_type": "markdown",
   "id": "d3bd56c0-b6fc-41d6-b2a2-b056e04c32ab",
   "metadata": {},
   "source": [
    "What happens in a molecule when it absorbs photons of light depend on the wavelength (and therefore energy) of the photon.\n",
    "For photons in the ultraviolet (around 100-400nm) and visible (400-700nm) spectrum, absorbance of photons\n",
    "correspond to excitation of electrons to higher energy levels.\n",
    "\n",
    "These excitations can be computed using electronic structure theory. This will be done in two stages.\n",
    "First, we will take our optimized molecule and run a singlpoint computation (just like last lab). Then,\n",
    "we will *time-dependent self-consistent field theory* (TDSCF) or *time-dependent density-functional theory* (TDDFT)\n",
    "to compute the excitation energies, and *oscillator strength*. The excitation energies correspond to the wavelength\n",
    "of light that would be absorbed for that transition, and the oscillator strength is related to the strength of the\n",
    "absorption (and therefore the height of the peak in a UV-Vis spectrum).\n",
    "\n",
    "First, we need to tell Psi4 to keep some intermediate quantities that will be needed for the TDSCF step."
   ]
  },
  {
   "cell_type": "code",
   "execution_count": null,
   "id": "a3827954-e155-491e-9d90-6fc785c0864f",
   "metadata": {},
   "outputs": [],
   "source": [
    "options = {\"save_jk\": True}\n",
    "psi4.set_options(options)"
   ]
  },
  {
   "cell_type": "markdown",
   "id": "f52b5749-706c-4dc9-ab03-c5621371fed7",
   "metadata": {},
   "source": [
    "Then, we can set the output file and run the singlepoint. We need to tell psi4 the level of theory, molecule, and also that we want\n",
    "to keep the resulting wavefunction information (orbitals). That will be needed for the TDSCF.\n",
    "\n",
    "For the TDSCF step, we ask for 10 excited states"
   ]
  },
  {
   "cell_type": "code",
   "execution_count": null,
   "id": "98414104-6569-45a4-a860-4a0c9d55cddf",
   "metadata": {},
   "outputs": [],
   "source": [
    "psi4.set_output_file(\"benzene_excitations.txt\")\n",
    "e, wfn = psi4.energy(\"pbe/6-31g*\", return_wfn=True, molecule=mol)\n",
    "res = tdscf_excitations(wfn, states=10)"
   ]
  },
  {
   "cell_type": "markdown",
   "id": "fa5afeaf-2f66-4d19-a287-ede4cd000674",
   "metadata": {},
   "source": [
    "Let's print out what was returned"
   ]
  },
  {
   "cell_type": "code",
   "execution_count": null,
   "id": "cf193cd0-47db-4667-a69f-b2e629631ca2",
   "metadata": {},
   "outputs": [],
   "source": [
    "# Let's print out what was returned\n",
    "print(res)\n",
    "\n",
    "def hartree_to_nm(energy_hartree):\n",
    "    if energy_hartree <= 0:\n",
    "        return float('inf')\n",
    "    return 45.5633525316 / energy_hartree\n",
    "\n",
    "benzene_wavelengths_nm = [hartree_to_nm(item[\"energy\"]) for item in res]\n",
    "print(\"Computed excitation wavelengths (nm):\")\n",
    "for idx, wavelength in enumerate(benzene_wavelengths_nm, start=1):\n",
    "    if wavelength == float('inf'):\n",
    "        msg = 'inf'\n",
    "    else:\n",
    "        msg = f\"{wavelength:.1f}\"\n",
    "    print(f\"  State {idx}: {msg} nm\")\n"
   ]
  },
  {
   "cell_type": "code",
   "metadata": {},
   "execution_count": null,
   "outputs": [],
   "source": [
    "import matplotlib.pyplot as plt\n",
    "\n",
    "oscillator_strengths = [\n",
    "    item.get(\"OSCILLATOR STRENGTH (LEN)\", item.get(\"oscillator_strength_len\", 0.0))\n",
    "    for item in res\n",
    "]\n",
    "\n",
    "plt.figure(figsize=(8, 4))\n",
    "plt.bar(benzene_wavelengths_nm, oscillator_strengths, width=5.0, color=\"#5976ba\")\n",
    "plt.xlabel(\"Wavelength (nm)\")\n",
    "plt.ylabel(\"Oscillator Strength (len)\")\n",
    "plt.title(\"Benzene TD-SCF Excitations\")\n",
    "plt.tight_layout()\n",
    "plt.show()\n"
   ]
  },
  {
   "cell_type": "markdown",
   "metadata": {},
   "source": [
    "The simulated spectrum shows benzene absorbing most strongly in the ultraviolet (around 200 nm). ",
    "That aligns with the well-known observation that bulk benzene is colorless to the eye, because it absorbs outside the visible range.\n"
   ]
  },
  {
   "cell_type": "markdown",
   "id": "4c343a68-6883-4759-a95c-5b705c6df665",
   "metadata": {},
   "source": [
    "We see it is a list of dictionaries of various properties, each describing an electronic transition"
   ]
  },
  {
   "cell_type": "markdown",
   "id": "0932146f-833e-4f38-a7a2-2afc078efb0e",
   "metadata": {},
   "source": [
    "### Tasks\n",
    "\n",
    "The excitation energies represent the wavelength of photons absorbed for that transition. First, create a list of wavelengths from these energies\n",
    "\n",
    "To convert these energies to wavelengths, we use the usual formula\n",
    "\n",
    "$$ E = hc/\\lambda $$\n",
    "\n",
    "where $E$ is the energy , $h$ is Planck's constant, $c$ is the speed of light, and $\\lambda$ is the wavelength. You might be easiest to write a function that takes in\n",
    "an energy in hartree and returns a wavelength in nanometers.\n",
    "\n",
    "* See [https://physics.nist.gov/cuu/Constants/Table/allascii.txt](https://physics.nist.gov/cuu/Constants/Table/allascii.txt) for conversion constants.\n",
    "* The excitation energies given from the TDDFT module are in Hartrees (atomic units)\n",
    "* Generally convert everything to SI units (hartrees to Joules) then use Planck's constant and the speed of light in SI units.\n",
    "\n",
    "\n",
    "Once you have all the energies converted to wavelength, plot these wavelengths on the x-axis, and `OSCILLATOR STRENGTH (LEN)` on the y-axis as a bar plot. In what regime is benzene most absorbant? Does this match your experience (ie, what color is liquid benzene?)\n",
    "\n",
    "(The oscillator strength is related to the strength of the absorption. However, we typically only care about the shape of the spectrum and therefore the relative peak heights)"
   ]
  },
  {
   "cell_type": "markdown",
   "id": "e2328f1d-0c7f-481c-b009-f20d98957b67",
   "metadata": {},
   "source": [
    "## Other molecules"
   ]
  },
  {
   "cell_type": "markdown",
   "id": "e4513413-6e01-4b2e-8cbe-5bbc7e81da67",
   "metadata": {},
   "source": [
    "Azulene is an organic molecule with a dark blue color. It is also small enough that we should be able to compute its UV-Vis spectrum as well.\n",
    "Do the above procedure, but using the `azulene.xyz` file. Do you see any absorbance in the visible spectrum? What color does that correspond to?"
   ]
  },
  {
   "cell_type": "code",
   "execution_count": null,
   "id": "fd70dbb3-89e3-4429-8867-6eb4afb68ec6",
   "metadata": {},
   "outputs": [],
   "source": [
    "with open('molecules/azulene.xyz', 'r') as f:\n",
    "    azulene_data = f.read()\n",
    "azulene = psi4.geometry(azulene_data)\n",
    "\n",
    "az_initial_distance = distance_between_atoms(azulene.geometry().np, 0, 1)\n",
    "az_initial_energy = psi4.energy('pbe/6-31g*', molecule=psi4.geometry(azulene_data))\n",
    "psi4.set_output_file('optimize_azulene.txt')\n",
    "az_energy = psi4.optimize('pbe/6-31g*', molecule=azulene)\n",
    "az_distance = distance_between_atoms(azulene.geometry().np, 0, 1)\n",
    "print(f\"Azulene initial distance (atoms 0-1): {az_initial_distance:.4f} \\u00c5\")\n",
    "print(f\"Azulene optimized distance (atoms 0-1): {az_distance:.4f} \\u00c5\")\n",
    "print(f\"Distance change: {az_distance - az_initial_distance:+.4f} \\u00c5\")\n",
    "print(f\"Initial azulene energy: {az_initial_energy:.6f} (arbitrary units)\")\n",
    "print(f\"Optimized azulene energy: {az_energy:.6f} (arbitrary units)\")\n",
    "print(f\"Energy change: {az_energy - az_initial_energy:+.6f}\")\n",
    "\n",
    "psi4.set_output_file('azulene_excitations.txt')\n",
    "az_energy_sp, az_wfn = psi4.energy('pbe/6-31g*', return_wfn=True, molecule=azulene)\n",
    "az_res = tdscf_excitations(az_wfn, states=10)\n",
    "azulene_wavelengths_nm = [hartree_to_nm(item['energy']) for item in az_res]\n",
    "print('Azulene excited states:')\n",
    "for item, wavelength in zip(az_res, azulene_wavelengths_nm):\n",
    "    state = item['state']\n",
    "    energy_ev = item.get('energy_ev', item['energy'] * 27.211386245988)\n",
    "    print(f\"  State {state:>2}: {energy_ev:.2f} eV ({wavelength:.1f} nm)\")\n",
    "\n",
    "def describe_color(wavelength_nm):\n",
    "    if wavelength_nm < 380 or wavelength_nm == float('inf'):\n",
    "        return 'ultraviolet'\n",
    "    if wavelength_nm < 450:\n",
    "        return 'violet-blue'\n",
    "    if wavelength_nm < 495:\n",
    "        return 'blue-green'\n",
    "    if wavelength_nm < 570:\n",
    "        return 'green-yellow'\n",
    "    if wavelength_nm < 590:\n",
    "        return 'yellow-orange'\n",
    "    if wavelength_nm < 620:\n",
    "        return 'orange-red'\n",
    "    if wavelength_nm <= 750:\n",
    "        return 'red'\n",
    "    return 'infrared'\n",
    "\n",
    "visible_transitions = [\n",
    "    (item['state'], wavelength)\n",
    "    for item, wavelength in zip(az_res, azulene_wavelengths_nm)\n",
    "    if 400.0 <= wavelength <= 700.0\n",
    "]\n",
    "if visible_transitions:\n",
    "    print('Visible-range transitions:')\n",
    "    for state, wavelength in visible_transitions:\n",
    "        color = describe_color(wavelength)\n",
    "        print(f\"  State {state}: {wavelength:.1f} nm ({color})\")\n",
    "else:\n",
    "    print('No azulene excitations fall within the 400-700 nm visible window in this model.')\n"
   ]
  }
 ],
 "metadata": {
  "kernelspec": {
   "display_name": "QCFractal Devel",
   "language": "python",
   "name": "qcfractal-dev"
  },
  "language_info": {
   "codemirror_mode": {
    "name": "ipython",
    "version": 3
   },
   "file_extension": ".py",
   "mimetype": "text/x-python",
   "name": "python",
   "nbconvert_exporter": "python",
   "pygments_lexer": "ipython3",
   "version": "3.13.9"
  }
 },
 "nbformat": 4,
 "nbformat_minor": 5
}